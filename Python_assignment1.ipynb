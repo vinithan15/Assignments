{
 "cells": [
  {
   "cell_type": "code",
   "execution_count": 1,
   "metadata": {},
   "outputs": [],
   "source": [
    "start=2000\n",
    "end=3200\n",
    "l=list()\n",
    "while start<=end:\n",
    "  if( start%7 == 0 and start%5 != 0):\n",
    "    l.append(start)\n",
    "  start=start+1\n",
    "print(l)"
   ]
  },
  {
   "cell_type": "code",
   "execution_count": 2,
   "metadata": {},
   "outputs": [
    {
     "name": "stdout",
     "output_type": "stream",
     "text": [
      "Enter your first nameVinitha\n",
      "Enter your last nameN\n",
      "N\tVinitha\n"
     ]
    }
   ],
   "source": [
    "fname = input(\"Enter your first name\")\n",
    "lname = input(\"Enter your last name\")\n",
    "print (lname+'\\t'+fname)"
   ]
  },
  {
   "cell_type": "code",
   "execution_count": 3,
   "metadata": {},
   "outputs": [
    {
     "name": "stdout",
     "output_type": "stream",
     "text": [
      "Volume= 7234.559999999999\n"
     ]
    }
   ],
   "source": [
    "v = 4/3*3.14*12*12*12\n",
    "print (\"Volume=\",v)"
   ]
  },
  {
   "cell_type": "code",
   "execution_count": 4,
   "metadata": {},
   "outputs": [
    {
     "name": "stdout",
     "output_type": "stream",
     "text": [
      "Enter comma separated numbers1,4,6,3\n",
      "['1', '4', '6', '3']\n"
     ]
    }
   ],
   "source": [
    "var = input(\"Enter comma separated numbers\")\n",
    "length = len(var)\n",
    "l = list()\n",
    "i = 0\n",
    "while i < length:\n",
    "    num = var[i]\n",
    "    if num != ',':\n",
    "      l.append(num)\n",
    "    i = i+1\n",
    "print (l)"
   ]
  },
  {
   "cell_type": "code",
   "execution_count": 5,
   "metadata": {},
   "outputs": [
    {
     "name": "stdout",
     "output_type": "stream",
     "text": [
      "*\n",
      "**\n",
      "***\n",
      "****\n",
      "*****\n",
      "****\n",
      "***\n",
      "**\n",
      "*\n"
     ]
    }
   ],
   "source": [
    "line = [1,2,3,4,5]\n",
    "rev_line = [4,3,2,1]\n",
    "for i in line:\n",
    "    for j in range(1,i+1):\n",
    "        print (\"*\",end='')\n",
    "    print ()\n",
    "for i in rev_line:\n",
    "    for j in range(i,0,-1):\n",
    "        print (\"*\",end='')\n",
    "    print ()      "
   ]
  },
  {
   "cell_type": "code",
   "execution_count": 6,
   "metadata": {},
   "outputs": [
    {
     "name": "stdout",
     "output_type": "stream",
     "text": [
      "Enter a wordHello\n",
      "olleH\n"
     ]
    }
   ],
   "source": [
    "str = input(\"Enter a word\")\n",
    "print (str[::-1])"
   ]
  },
  {
   "cell_type": "code",
   "execution_count": 7,
   "metadata": {},
   "outputs": [
    {
     "name": "stdout",
     "output_type": "stream",
     "text": [
      "WE, THE PEOPLE OF INDIA,\n",
      "\thaving solemnly resolved to constitute India into a SOVEREIGN, !\n",
      "\t\tSOCIALIST, SECULAR, DEMOCRATIC REPUBLIC\n",
      "\t\t\tand to secure to all its citizens\n"
     ]
    }
   ],
   "source": [
    "print(\"WE, THE PEOPLE OF INDIA,\"+\"\\n\\t\"+\n",
    "\"having solemnly resolved to constitute India into a SOVEREIGN, !\"+\n",
    "\"\\n\\t\\t\"+\"SOCIALIST, SECULAR, DEMOCRATIC REPUBLIC\"+\n",
    "\"\\n\\t\\t\\t\"+\"and to secure to all its citizens\")"
   ]
  },
  {
   "cell_type": "code",
   "execution_count": null,
   "metadata": {},
   "outputs": [],
   "source": []
  }
 ],
 "metadata": {
  "kernelspec": {
   "display_name": "Python 3",
   "language": "python",
   "name": "python3"
  },
  "language_info": {
   "codemirror_mode": {
    "name": "ipython",
    "version": 3
   },
   "file_extension": ".py",
   "mimetype": "text/x-python",
   "name": "python",
   "nbconvert_exporter": "python",
   "pygments_lexer": "ipython3",
   "version": "3.6.4"
  }
 },
 "nbformat": 4,
 "nbformat_minor": 2
}
