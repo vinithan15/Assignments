{
 "cells": [
  {
   "cell_type": "markdown",
   "metadata": {},
   "source": [
    "###### 1.1 My Reduce function"
   ]
  },
  {
   "cell_type": "code",
   "execution_count": 5,
   "metadata": {},
   "outputs": [
    {
     "data": {
      "text/plain": [
       "7"
      ]
     },
     "execution_count": 5,
     "metadata": {},
     "output_type": "execute_result"
    }
   ],
   "source": [
    "def max(a):\n",
    "    max=a[0]\n",
    "    for i in a:\n",
    "        if i>max:\n",
    "            max=i\n",
    "    return max\n",
    "l=max([5,1,2,5,3,7,0])\n",
    "l       "
   ]
  },
  {
   "cell_type": "markdown",
   "metadata": {},
   "source": [
    "###### 1.2 My Filter function"
   ]
  },
  {
   "cell_type": "code",
   "execution_count": 30,
   "metadata": {},
   "outputs": [
    {
     "data": {
      "text/plain": [
       "[1, 5, 3, 3]"
      ]
     },
     "execution_count": 30,
     "metadata": {},
     "output_type": "execute_result"
    }
   ],
   "source": [
    "def odd(a):\n",
    "    l=[]\n",
    "    for i in a:\n",
    "        if i%2 !=0:\n",
    "            l.append(i)\n",
    "    else:\n",
    "        return l\n",
    "list=odd([1,5,3,2,4,3])\n",
    "list      "
   ]
  },
  {
   "cell_type": "markdown",
   "metadata": {},
   "source": [
    "###### 3. Longest word in list"
   ]
  },
  {
   "cell_type": "code",
   "execution_count": 11,
   "metadata": {},
   "outputs": [
    {
     "data": {
      "text/plain": [
       "'hello'"
      ]
     },
     "execution_count": 11,
     "metadata": {},
     "output_type": "execute_result"
    }
   ],
   "source": [
    "def longestWord(a):\n",
    "    l=[]\n",
    "    max_len = len(a[0])\n",
    "    ind=0\n",
    "    for i in range(len(a)):\n",
    "        if len(a[i])>max_len:\n",
    "            max_len = len(a[i])\n",
    "            ind= i\n",
    "    return a[ind]\n",
    "list=['hi','hello','helo',]\n",
    "long=longestWord(list)\n",
    "long"
   ]
  },
  {
   "cell_type": "markdown",
   "metadata": {},
   "source": [
    "###### Task2 2.2 Vowel"
   ]
  },
  {
   "cell_type": "code",
   "execution_count": 27,
   "metadata": {},
   "outputs": [
    {
     "data": {
      "text/plain": [
       "True"
      ]
     },
     "execution_count": 27,
     "metadata": {},
     "output_type": "execute_result"
    }
   ],
   "source": [
    "def vowel(char):\n",
    "    v=['a','e','i','o','u']\n",
    "    for i in v:\n",
    "        if i==char:\n",
    "            return True\n",
    "            break\n",
    "    else:\n",
    "       return False\n",
    "result=vowel('i')\n",
    "result\n"
   ]
  },
  {
   "cell_type": "markdown",
   "metadata": {},
   "source": [
    "###### Task2 1.1 Area of a Triangle"
   ]
  },
  {
   "cell_type": "code",
   "execution_count": 21,
   "metadata": {},
   "outputs": [
    {
     "name": "stdout",
     "output_type": "stream",
     "text": [
      "24.0\n"
     ]
    }
   ],
   "source": [
    "class Triangle:\n",
    "    def __init__(self,a,b,c):\n",
    "        self.a=a\n",
    "        self.b=b\n",
    "        self.c=c\n",
    "class Area(Triangle):\n",
    "    def __init__(self,*args):\n",
    "        super(Area,self).__init__(*args)       \n",
    "    def Calc_Area(self):\n",
    "        s=(self.a+self.b+self.c)/2\n",
    "        ar = (s*(s-self.a)*(s-self.b)*(s-self.c))**0.5\n",
    "        return ar\n",
    "tri_obj=Area(6,8,10)\n",
    "print(tri_obj.Calc_Area())"
   ]
  },
  {
   "cell_type": "markdown",
   "metadata": {},
   "source": [
    "###### Task2 1.2 filter_long_words()"
   ]
  },
  {
   "cell_type": "code",
   "execution_count": 23,
   "metadata": {},
   "outputs": [
    {
     "data": {
      "text/plain": [
       "['hiiii', 'helloo']"
      ]
     },
     "execution_count": 23,
     "metadata": {},
     "output_type": "execute_result"
    }
   ],
   "source": [
    "def filter_long_words(a,n):\n",
    "    list=[]\n",
    "    for i in a:\n",
    "        for i in a:\n",
    "            if len(i)>n:\n",
    "                list.append(i)\n",
    "        return list           \n",
    "            \n",
    "list=['hiiii','he','helloo']\n",
    "num\n",
    "=3\n",
    "ans = filter_long_words(list,num)\n",
    "ans"
   ]
  },
  {
   "cell_type": "markdown",
   "metadata": {},
   "source": [
    "###### Task2 2.1 list with length of words\n"
   ]
  },
  {
   "cell_type": "code",
   "execution_count": 24,
   "metadata": {},
   "outputs": [
    {
     "data": {
      "text/plain": [
       "[5, 2, 6]"
      ]
     },
     "execution_count": 24,
     "metadata": {},
     "output_type": "execute_result"
    }
   ],
   "source": [
    "def list_count(a):\n",
    "    list=[]\n",
    "    for i in a:\n",
    "        list.append(len(i))\n",
    "    return list\n",
    "\n",
    "list=['hiiii','he','helloo']\n",
    "ans=list_count(list)\n",
    "ans"
   ]
  },
  {
   "cell_type": "markdown",
   "metadata": {},
   "source": [
    "###### 2. List Comprehensions"
   ]
  },
  {
   "cell_type": "code",
   "execution_count": 1,
   "metadata": {},
   "outputs": [
    {
     "data": {
      "text/plain": [
       "['x', 'y', 'z', 'xx', 'yy', 'zz', 'xxx', 'yyy', 'zzz', 'xxxx', 'yyyy', 'zzzz']"
      ]
     },
     "execution_count": 1,
     "metadata": {},
     "output_type": "execute_result"
    }
   ],
   "source": [
    "l=list(a*b for a in range(1,5) for b in \"xyz\")\n",
    "l"
   ]
  },
  {
   "cell_type": "code",
   "execution_count": 28,
   "metadata": {},
   "outputs": [
    {
     "data": {
      "text/plain": [
       "['x', 'xx', 'xxx', 'xxxx', 'y', 'yy', 'yyy', 'yyyy', 'z', 'zz', 'zzz', 'zzzz']"
      ]
     },
     "execution_count": 28,
     "metadata": {},
     "output_type": "execute_result"
    }
   ],
   "source": [
    "l1=list(a*b for a in range(1,5) for b in \"x\")\n",
    "l2=list(a*b for a in range(1,5) for b in \"y\")\n",
    "l3=list(a*b for a in range(1,5) for b in \"z\")\n",
    "\n",
    "l1.extend(l2)\n",
    "l1.extend(l3)\n",
    "l1"
   ]
  },
  {
   "cell_type": "code",
   "execution_count": 29,
   "metadata": {},
   "outputs": [
    {
     "data": {
      "text/plain": [
       "['A', 'C', 'A', 'D', 'G', 'I', 'L', 'D']"
      ]
     },
     "execution_count": 29,
     "metadata": {},
     "output_type": "execute_result"
    }
   ],
   "source": [
    "list=list(x for x in \"ACADGILD\")\n",
    "list"
   ]
  },
  {
   "cell_type": "code",
   "execution_count": 43,
   "metadata": {},
   "outputs": [
    {
     "data": {
      "text/plain": [
       "[[2], [3], [4], [3], [4], [5], [4], [5], [6]]"
      ]
     },
     "execution_count": 43,
     "metadata": {},
     "output_type": "execute_result"
    }
   ],
   "source": [
    "l1=[]\n",
    "l2=[2]\n",
    "l3=[3]\n",
    "l4=[4]\n",
    "l5=[5]\n",
    "l6=[6]\n",
    "l1.append(l2)\n",
    "l1.append(l3)\n",
    "l1.append(l4)\n",
    "l1.append(l3)\n",
    "l1.append(l4)\n",
    "l1.append(l5)\n",
    "l1.append(l4)\n",
    "l1.append(l5)\n",
    "l1.append(l6)\n",
    "l1"
   ]
  },
  {
   "cell_type": "code",
   "execution_count": 5,
   "metadata": {},
   "outputs": [
    {
     "data": {
      "text/plain": [
       "[[2, 3, 4, 5], [3, 4, 5, 6], [4, 5, 6, 7], [5, 6, 7, 8]]"
      ]
     },
     "execution_count": 5,
     "metadata": {},
     "output_type": "execute_result"
    }
   ],
   "source": [
    "l=[]\n",
    "l1=list(i for i in range(2,6))\n",
    "l2=list(i for i in range(3,7))\n",
    "l3=list(i for i in range(4,8))\n",
    "l4=list(i for i in range(5,9))\n",
    "l.append(l1)\n",
    "l.append(l2)\n",
    "l.append(l3)\n",
    "l.append(l4)\n",
    "l"
   ]
  },
  {
   "cell_type": "code",
   "execution_count": 9,
   "metadata": {},
   "outputs": [
    {
     "data": {
      "text/plain": [
       "[(1, 1), (2, 1), (3, 1), (1, 2), (2, 2), (3, 2), (1, 3), (2, 3), (3, 3)]"
      ]
     },
     "execution_count": 9,
     "metadata": {},
     "output_type": "execute_result"
    }
   ],
   "source": [
    "t=[]\n",
    "t1=(1,1)\n",
    "t2=(2,1)\n",
    "t3=(3,1)\n",
    "t4=(1,2)\n",
    "t5=(2,2)\n",
    "t6=(3,2)\n",
    "t7=(1,3)\n",
    "t8=(2,3)\n",
    "t9=(3,3)\n",
    "t.append(t1)\n",
    "t.append(t2)\n",
    "t.append(t3)\n",
    "t.append(t4)\n",
    "t.append(t5)\n",
    "t.append(t6)\n",
    "t.append(t7)\n",
    "t.append(t8)\n",
    "t.append(t9)\n",
    "t"
   ]
  },
  {
   "cell_type": "code",
   "execution_count": null,
   "metadata": {},
   "outputs": [],
   "source": []
  }
 ],
 "metadata": {
  "kernelspec": {
   "display_name": "Python 3",
   "language": "python",
   "name": "python3"
  },
  "language_info": {
   "codemirror_mode": {
    "name": "ipython",
    "version": 3
   },
   "file_extension": ".py",
   "mimetype": "text/x-python",
   "name": "python",
   "nbconvert_exporter": "python",
   "pygments_lexer": "ipython3",
   "version": "3.6.4"
  }
 },
 "nbformat": 4,
 "nbformat_minor": 2
}
